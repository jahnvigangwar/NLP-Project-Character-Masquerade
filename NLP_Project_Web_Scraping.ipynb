{
  "nbformat": 4,
  "nbformat_minor": 0,
  "metadata": {
    "colab": {
      "provenance": []
    },
    "kernelspec": {
      "name": "python3",
      "display_name": "Python 3"
    },
    "language_info": {
      "name": "python"
    },
    "gpuClass": "standard"
  },
  "cells": [
    {
      "cell_type": "code",
      "execution_count": null,
      "metadata": {
        "id": "fMYQlPUFpc34"
      },
      "outputs": [],
      "source": [
        "import requests\n",
        "from bs4 import BeautifulSoup\n",
        "import pandas as pd\n",
        "import re\n",
        "import string"
      ]
    },
    {
      "cell_type": "code",
      "source": [
        "def wordopt(text):\n",
        "  text = text.lower()\n",
        "  text = re.sub('\\[. *?\\]','',text)\n",
        "  text = re.sub(\"\\\\W\",\" \",text)\n",
        "  text = re.sub('https?://\\S+|www\\.\\S+', '', text)\n",
        "  text = re.sub('<.*?›+', '', text)\n",
        "  text = re.sub('[%s]' % re.escape(string.punctuation),'', text)\n",
        "  text = re.sub( \"\\n\",' ',text)\n",
        "  text = re.sub('\\w*\\d\\w*','',text)\n",
        "  return text"
      ],
      "metadata": {
        "id": "n-p7y0zrtVsY"
      },
      "execution_count": null,
      "outputs": []
    },
    {
      "cell_type": "code",
      "source": [
        "def get_data(search):\n",
        "    url='https://en.wikipedia.org/wiki/'+str(search).strip()\n",
        "    r=requests.get(url)\n",
        "    soup=BeautifulSoup(r.content,'html.parser')\n",
        "    complete=''\n",
        "    for d in soup.find_all('p'):\n",
        "      fine_tuned = wordopt(d.text)\n",
        "      if(fine_tuned!=' '):\n",
        "        complete = complete + fine_tuned\n",
        "    return complete"
      ],
      "metadata": {
        "id": "CpcBGs_-p1YW"
      },
      "execution_count": null,
      "outputs": []
    },
    {
      "cell_type": "code",
      "source": [
        "df_marvel = pd.read_csv('/content/marvel-wikia-data.csv')"
      ],
      "metadata": {
        "id": "JkGnTdtOrT11"
      },
      "execution_count": null,
      "outputs": []
    },
    {
      "cell_type": "code",
      "source": [
        "df_marvel = df_marvel[14000:]"
      ],
      "metadata": {
        "id": "c_WH4-uZj2tX"
      },
      "execution_count": null,
      "outputs": []
    },
    {
      "cell_type": "code",
      "source": [
        "paras = []\n",
        "final_df = pd.DataFrame([],columns=['elaborate_info'])\n",
        "names = df_marvel['name']\n",
        "# names = names[0:100]\n",
        "paras=[]\n",
        "for name in names:\n",
        "  paras.append(get_data(re.sub(\"\\(.*?\\)\",\"\",name)))\n",
        "temp = pd.DataFrame(paras, columns =['elaborate_info'])\n",
        "final_df = pd.concat([final_df,temp],axis=0)\n",
        "len(final_df)"
      ],
      "metadata": {
        "id": "cwb3tZMUuVVz",
        "colab": {
          "base_uri": "https://localhost:8080/"
        },
        "outputId": "a40db02d-1918-42a7-b7bf-eb7f50dfd5fa"
      },
      "execution_count": null,
      "outputs": [
        {
          "output_type": "execute_result",
          "data": {
            "text/plain": [
              "2376"
            ]
          },
          "metadata": {},
          "execution_count": 132
        }
      ]
    },
    {
      "cell_type": "code",
      "source": [
        "df_marvel['info'] = list(final_df['elaborate_info'])\n",
        "df_marvel = df_marvel.reset_index()\n",
        "df_marvel.drop(['index'],axis=1,inplace=True)\n",
        "temp_lst = list(df_marvel['info'])\n",
        "indexs = []\n",
        "invalid = ['other reasons this message may be displayed','there is currently no text in this page you can search for this page title in other pages or search the related logs but you do not have permission to create this page']\n",
        "def check_valid(t):\n",
        "  for i in invalid:\n",
        "    if i == str(t).strip():\n",
        "      return 0\n",
        "  if 'refer to' in str(t) and len(str(t))<40:\n",
        "    return 0\n",
        "  return 1\n",
        "for i in range(len(temp_lst)):\n",
        "  if check_valid(temp_lst[i])==0:\n",
        "    df_marvel.drop(i,axis=0,inplace=True)"
      ],
      "metadata": {
        "id": "YcxuXl22uZtt"
      },
      "execution_count": null,
      "outputs": []
    },
    {
      "cell_type": "code",
      "source": [
        "df_marvel.drop(['page_id','urlslug', 'ID','GSM', 'ALIVE','FIRST APPEARANCE', 'Year', 'APPEARANCES','SEX'],axis=1,inplace=True)"
      ],
      "metadata": {
        "id": "qMM932oMnb_u"
      },
      "execution_count": null,
      "outputs": []
    },
    {
      "cell_type": "code",
      "source": [
        "df_marvel.to_csv('/content/operating_file6.csv',index=False)"
      ],
      "metadata": {
        "id": "3JPFkW07nhmJ"
      },
      "execution_count": null,
      "outputs": []
    },
    {
      "cell_type": "code",
      "source": [
        "dfs = []\n",
        "for i in range(1,7):\n",
        "  df = pd.read_csv('/content/operating_file'+str(i)+'.csv')\n",
        "  dfs.append(df)"
      ],
      "metadata": {
        "id": "K3sg-YmawY4F"
      },
      "execution_count": null,
      "outputs": []
    },
    {
      "cell_type": "code",
      "source": [
        "master_work = pd.concat(dfs)"
      ],
      "metadata": {
        "id": "C1mPEcdfxIkx"
      },
      "execution_count": null,
      "outputs": []
    },
    {
      "cell_type": "code",
      "source": [
        "master_work = master_work.reset_index()\n",
        "master_work.drop(['index'],axis=1,inplace=True)"
      ],
      "metadata": {
        "id": "1ZCRa8XixTE_"
      },
      "execution_count": null,
      "outputs": []
    },
    {
      "cell_type": "code",
      "source": [
        "master_work"
      ],
      "metadata": {
        "colab": {
          "base_uri": "https://localhost:8080/",
          "height": 424
        },
        "id": "fK9uWFY29bqD",
        "outputId": "0cfbcdf0-c5fd-4684-de84-fde4796937a9"
      },
      "execution_count": null,
      "outputs": [
        {
          "output_type": "execute_result",
          "data": {
            "text/plain": [
              "                                             name               ALIGN  \\\n",
              "0                       Spider-Man (Peter Parker)     Good Characters   \n",
              "1                 Captain America (Steven Rogers)     Good Characters   \n",
              "2             Wolverine (James \\\"Logan\\\" Howlett)  Neutral Characters   \n",
              "3               Iron Man (Anthony \\\"Tony\\\" Stark)     Good Characters   \n",
              "4                             Thor (Thor Odinson)     Good Characters   \n",
              "...                                           ...                 ...   \n",
              "6471   Finch (Kate Bishop's neighbor) (Earth-616)     Good Characters   \n",
              "6472        Jack O'Lantern (Impostor) (Earth-616)      Bad Characters   \n",
              "6473  Marcus (Kate Bishop's neighbor) (Earth-616)     Good Characters   \n",
              "6474              Thane (Thanos' son) (Earth-616)     Good Characters   \n",
              "6475                Tinkerer (Skrull) (Earth-616)      Bad Characters   \n",
              "\n",
              "             EYE        HAIR  \\\n",
              "0     Hazel Eyes  Brown Hair   \n",
              "1      Blue Eyes  White Hair   \n",
              "2      Blue Eyes  Black Hair   \n",
              "3      Blue Eyes  Black Hair   \n",
              "4      Blue Eyes  Blond Hair   \n",
              "...          ...         ...   \n",
              "6471  Black Eyes        Bald   \n",
              "6472  Hazel Eyes        Bald   \n",
              "6473  Hazel Eyes        Bald   \n",
              "6474   Blue Eyes        Bald   \n",
              "6475  Black Eyes        Bald   \n",
              "\n",
              "                                                   info  \n",
              "0     spider man is a superhero appearing in america...  \n",
              "1     captain america is a superhero appearing in am...  \n",
              "2     american wolverine  g  g  luscus   eurasian wo...  \n",
              "3     iron man is a superhero appearing in american ...  \n",
              "4     thor  from old norse  þórr  is a prominent god...  \n",
              "...                                                 ...  \n",
              "6471  fringillinaecarduelinaeeuphoniinae the true fi...  \n",
              "6472  a jack o  lantern  or jack o lantern  is a car...  \n",
              "6473    marcus  markus  márkus or mărcuș may refer to    \n",
              "6474  thane  marathi   ˈʈʰaːɳeː   also known as than...  \n",
              "6475  tinker or tinkerer is an archaic term for an i...  \n",
              "\n",
              "[6476 rows x 5 columns]"
            ],
            "text/html": [
              "\n",
              "  <div id=\"df-50b8d81e-cf43-4ef8-835d-dfcfc7e6c1af\">\n",
              "    <div class=\"colab-df-container\">\n",
              "      <div>\n",
              "<style scoped>\n",
              "    .dataframe tbody tr th:only-of-type {\n",
              "        vertical-align: middle;\n",
              "    }\n",
              "\n",
              "    .dataframe tbody tr th {\n",
              "        vertical-align: top;\n",
              "    }\n",
              "\n",
              "    .dataframe thead th {\n",
              "        text-align: right;\n",
              "    }\n",
              "</style>\n",
              "<table border=\"1\" class=\"dataframe\">\n",
              "  <thead>\n",
              "    <tr style=\"text-align: right;\">\n",
              "      <th></th>\n",
              "      <th>name</th>\n",
              "      <th>ALIGN</th>\n",
              "      <th>EYE</th>\n",
              "      <th>HAIR</th>\n",
              "      <th>info</th>\n",
              "    </tr>\n",
              "  </thead>\n",
              "  <tbody>\n",
              "    <tr>\n",
              "      <th>0</th>\n",
              "      <td>Spider-Man (Peter Parker)</td>\n",
              "      <td>Good Characters</td>\n",
              "      <td>Hazel Eyes</td>\n",
              "      <td>Brown Hair</td>\n",
              "      <td>spider man is a superhero appearing in america...</td>\n",
              "    </tr>\n",
              "    <tr>\n",
              "      <th>1</th>\n",
              "      <td>Captain America (Steven Rogers)</td>\n",
              "      <td>Good Characters</td>\n",
              "      <td>Blue Eyes</td>\n",
              "      <td>White Hair</td>\n",
              "      <td>captain america is a superhero appearing in am...</td>\n",
              "    </tr>\n",
              "    <tr>\n",
              "      <th>2</th>\n",
              "      <td>Wolverine (James \\\"Logan\\\" Howlett)</td>\n",
              "      <td>Neutral Characters</td>\n",
              "      <td>Blue Eyes</td>\n",
              "      <td>Black Hair</td>\n",
              "      <td>american wolverine  g  g  luscus   eurasian wo...</td>\n",
              "    </tr>\n",
              "    <tr>\n",
              "      <th>3</th>\n",
              "      <td>Iron Man (Anthony \\\"Tony\\\" Stark)</td>\n",
              "      <td>Good Characters</td>\n",
              "      <td>Blue Eyes</td>\n",
              "      <td>Black Hair</td>\n",
              "      <td>iron man is a superhero appearing in american ...</td>\n",
              "    </tr>\n",
              "    <tr>\n",
              "      <th>4</th>\n",
              "      <td>Thor (Thor Odinson)</td>\n",
              "      <td>Good Characters</td>\n",
              "      <td>Blue Eyes</td>\n",
              "      <td>Blond Hair</td>\n",
              "      <td>thor  from old norse  þórr  is a prominent god...</td>\n",
              "    </tr>\n",
              "    <tr>\n",
              "      <th>...</th>\n",
              "      <td>...</td>\n",
              "      <td>...</td>\n",
              "      <td>...</td>\n",
              "      <td>...</td>\n",
              "      <td>...</td>\n",
              "    </tr>\n",
              "    <tr>\n",
              "      <th>6471</th>\n",
              "      <td>Finch (Kate Bishop's neighbor) (Earth-616)</td>\n",
              "      <td>Good Characters</td>\n",
              "      <td>Black Eyes</td>\n",
              "      <td>Bald</td>\n",
              "      <td>fringillinaecarduelinaeeuphoniinae the true fi...</td>\n",
              "    </tr>\n",
              "    <tr>\n",
              "      <th>6472</th>\n",
              "      <td>Jack O'Lantern (Impostor) (Earth-616)</td>\n",
              "      <td>Bad Characters</td>\n",
              "      <td>Hazel Eyes</td>\n",
              "      <td>Bald</td>\n",
              "      <td>a jack o  lantern  or jack o lantern  is a car...</td>\n",
              "    </tr>\n",
              "    <tr>\n",
              "      <th>6473</th>\n",
              "      <td>Marcus (Kate Bishop's neighbor) (Earth-616)</td>\n",
              "      <td>Good Characters</td>\n",
              "      <td>Hazel Eyes</td>\n",
              "      <td>Bald</td>\n",
              "      <td>marcus  markus  márkus or mărcuș may refer to</td>\n",
              "    </tr>\n",
              "    <tr>\n",
              "      <th>6474</th>\n",
              "      <td>Thane (Thanos' son) (Earth-616)</td>\n",
              "      <td>Good Characters</td>\n",
              "      <td>Blue Eyes</td>\n",
              "      <td>Bald</td>\n",
              "      <td>thane  marathi   ˈʈʰaːɳeː   also known as than...</td>\n",
              "    </tr>\n",
              "    <tr>\n",
              "      <th>6475</th>\n",
              "      <td>Tinkerer (Skrull) (Earth-616)</td>\n",
              "      <td>Bad Characters</td>\n",
              "      <td>Black Eyes</td>\n",
              "      <td>Bald</td>\n",
              "      <td>tinker or tinkerer is an archaic term for an i...</td>\n",
              "    </tr>\n",
              "  </tbody>\n",
              "</table>\n",
              "<p>6476 rows × 5 columns</p>\n",
              "</div>\n",
              "      <button class=\"colab-df-convert\" onclick=\"convertToInteractive('df-50b8d81e-cf43-4ef8-835d-dfcfc7e6c1af')\"\n",
              "              title=\"Convert this dataframe to an interactive table.\"\n",
              "              style=\"display:none;\">\n",
              "        \n",
              "  <svg xmlns=\"http://www.w3.org/2000/svg\" height=\"24px\"viewBox=\"0 0 24 24\"\n",
              "       width=\"24px\">\n",
              "    <path d=\"M0 0h24v24H0V0z\" fill=\"none\"/>\n",
              "    <path d=\"M18.56 5.44l.94 2.06.94-2.06 2.06-.94-2.06-.94-.94-2.06-.94 2.06-2.06.94zm-11 1L8.5 8.5l.94-2.06 2.06-.94-2.06-.94L8.5 2.5l-.94 2.06-2.06.94zm10 10l.94 2.06.94-2.06 2.06-.94-2.06-.94-.94-2.06-.94 2.06-2.06.94z\"/><path d=\"M17.41 7.96l-1.37-1.37c-.4-.4-.92-.59-1.43-.59-.52 0-1.04.2-1.43.59L10.3 9.45l-7.72 7.72c-.78.78-.78 2.05 0 2.83L4 21.41c.39.39.9.59 1.41.59.51 0 1.02-.2 1.41-.59l7.78-7.78 2.81-2.81c.8-.78.8-2.07 0-2.86zM5.41 20L4 18.59l7.72-7.72 1.47 1.35L5.41 20z\"/>\n",
              "  </svg>\n",
              "      </button>\n",
              "      \n",
              "  <style>\n",
              "    .colab-df-container {\n",
              "      display:flex;\n",
              "      flex-wrap:wrap;\n",
              "      gap: 12px;\n",
              "    }\n",
              "\n",
              "    .colab-df-convert {\n",
              "      background-color: #E8F0FE;\n",
              "      border: none;\n",
              "      border-radius: 50%;\n",
              "      cursor: pointer;\n",
              "      display: none;\n",
              "      fill: #1967D2;\n",
              "      height: 32px;\n",
              "      padding: 0 0 0 0;\n",
              "      width: 32px;\n",
              "    }\n",
              "\n",
              "    .colab-df-convert:hover {\n",
              "      background-color: #E2EBFA;\n",
              "      box-shadow: 0px 1px 2px rgba(60, 64, 67, 0.3), 0px 1px 3px 1px rgba(60, 64, 67, 0.15);\n",
              "      fill: #174EA6;\n",
              "    }\n",
              "\n",
              "    [theme=dark] .colab-df-convert {\n",
              "      background-color: #3B4455;\n",
              "      fill: #D2E3FC;\n",
              "    }\n",
              "\n",
              "    [theme=dark] .colab-df-convert:hover {\n",
              "      background-color: #434B5C;\n",
              "      box-shadow: 0px 1px 3px 1px rgba(0, 0, 0, 0.15);\n",
              "      filter: drop-shadow(0px 1px 2px rgba(0, 0, 0, 0.3));\n",
              "      fill: #FFFFFF;\n",
              "    }\n",
              "  </style>\n",
              "\n",
              "      <script>\n",
              "        const buttonEl =\n",
              "          document.querySelector('#df-50b8d81e-cf43-4ef8-835d-dfcfc7e6c1af button.colab-df-convert');\n",
              "        buttonEl.style.display =\n",
              "          google.colab.kernel.accessAllowed ? 'block' : 'none';\n",
              "\n",
              "        async function convertToInteractive(key) {\n",
              "          const element = document.querySelector('#df-50b8d81e-cf43-4ef8-835d-dfcfc7e6c1af');\n",
              "          const dataTable =\n",
              "            await google.colab.kernel.invokeFunction('convertToInteractive',\n",
              "                                                     [key], {});\n",
              "          if (!dataTable) return;\n",
              "\n",
              "          const docLinkHtml = 'Like what you see? Visit the ' +\n",
              "            '<a target=\"_blank\" href=https://colab.research.google.com/notebooks/data_table.ipynb>data table notebook</a>'\n",
              "            + ' to learn more about interactive tables.';\n",
              "          element.innerHTML = '';\n",
              "          dataTable['output_type'] = 'display_data';\n",
              "          await google.colab.output.renderOutput(dataTable, element);\n",
              "          const docLink = document.createElement('div');\n",
              "          docLink.innerHTML = docLinkHtml;\n",
              "          element.appendChild(docLink);\n",
              "        }\n",
              "      </script>\n",
              "    </div>\n",
              "  </div>\n",
              "  "
            ]
          },
          "metadata": {},
          "execution_count": 139
        }
      ]
    },
    {
      "cell_type": "code",
      "source": [
        "master_work.to_csv('/content/nowNLP.csv',index=False)"
      ],
      "metadata": {
        "id": "Vcsl-VpuxRdP"
      },
      "execution_count": null,
      "outputs": []
    }
  ]
}