{
  "cells": [
    {
      "cell_type": "markdown",
      "source": [
        "Mukul Singhal (102003370) Jahnvi Gangwar (102003372) Sunidhi Suri         (102003460) \n"
      ],
      "metadata": {
        "id": "8fqKu_hI9htL"
      }
    },
    {
      "cell_type": "code",
      "execution_count": null,
      "metadata": {
        "id": "MwDc6Rdkr3It"
      },
      "outputs": [],
      "source": [
        "import pandas as pd"
      ]
    },
    {
      "cell_type": "code",
      "execution_count": 350,
      "metadata": {
        "id": "XTDyHoBcsLKH"
      },
      "outputs": [],
      "source": [
        "df = pd.read_csv('/content/nowNLP.csv')"
      ]
    },
    {
      "cell_type": "code",
      "execution_count": 351,
      "metadata": {
        "colab": {
          "base_uri": "https://localhost:8080/"
        },
        "id": "GChPki6txTqP",
        "outputId": "78ff9fd1-877a-4b44-db8a-23afb4e1a5f6"
      },
      "outputs": [
        {
          "output_type": "execute_result",
          "data": {
            "text/plain": [
              "Index(['name', 'ALIGN', 'EYE', 'HAIR', 'info'], dtype='object')"
            ]
          },
          "metadata": {},
          "execution_count": 351
        }
      ],
      "source": [
        "df.columns"
      ]
    },
    {
      "cell_type": "code",
      "execution_count": 352,
      "metadata": {
        "id": "dK7BtjZyxOCn"
      },
      "outputs": [],
      "source": [
        "# One-hot encode the attributes using the get_dummies function\n",
        "one_hot_df = pd.get_dummies(df, columns=['ALIGN', 'EYE', 'HAIR'])"
      ]
    },
    {
      "cell_type": "code",
      "execution_count": 353,
      "metadata": {
        "id": "SSkIJ2DPxrxg"
      },
      "outputs": [],
      "source": [
        "X = one_hot_df['info']\n",
        "one_hot_df.drop(['info','name'],axis=1,inplace=True)"
      ]
    },
    {
      "cell_type": "code",
      "source": [
        "# The following function loads and pre-process the user-defined corpus from a specified path. The function summarizes the steps discussed in notebook named 'Pre-processing Textual Data'\n",
        "\n",
        "# import nltk\n",
        "# nltk.download('stopwords')\n",
        "# from nltk.corpus import *\n",
        "# from nltk.stem import PorterStemmer\n",
        "# ps=PorterStemmer()\n",
        "\n",
        "# def load_preprocess_corpus():\n",
        "#     #loads corpus as lsit of strings in content list\n",
        "#     content=X.to_list()\n",
        "#     #Normalize, Tokenize, and Stop-word removal    \n",
        "#     stopword=nltk.corpus.stopwords.words('english')\n",
        "#     normalize_tokenize_nostop=[]\n",
        "#     for i in content:\n",
        "#         normalize_tokenize_nostop.append([word.lower() for word in i.split() if word.isalpha() and word not in stopword])\n",
        "#     #Stemming of words\n",
        "#     final=[]\n",
        "#     ps=PorterStemmer()\n",
        "#     for i in normalize_tokenize_nostop:    \n",
        "#         final.append(' '.join([ps.stem(word) for word in i]))\n",
        "#     return final\n",
        "# X = load_preprocess_corpus()"
      ],
      "metadata": {
        "id": "nvQieeGn0WfV"
      },
      "execution_count": 356,
      "outputs": []
    },
    {
      "cell_type": "code",
      "execution_count": 354,
      "metadata": {
        "id": "cenjrLmSyC9l"
      },
      "outputs": [],
      "source": [
        "Y = one_hot_df"
      ]
    },
    {
      "cell_type": "code",
      "execution_count": 355,
      "metadata": {
        "id": "v5UOEc3X9UuT"
      },
      "outputs": [],
      "source": [
        "X = X.fillna(\"\")"
      ]
    },
    {
      "cell_type": "code",
      "execution_count": null,
      "metadata": {
        "colab": {
          "base_uri": "https://localhost:8080/"
        },
        "id": "AmJ8cznr-W5_",
        "outputId": "55803ff0-691e-4451-f5a9-fb8f6f451bbd"
      },
      "outputs": [
        {
          "output_type": "stream",
          "name": "stderr",
          "text": [
            "<ipython-input-276-93f568c7263f>:1: FutureWarning: The default value of regex will change from True to False in a future version.\n",
            "  X = X.str.replace('[^a-zA-Z]', ' ')\n"
          ]
        }
      ],
      "source": [
        "X = X.str.replace('[^a-zA-Z]', ' ')"
      ]
    },
    {
      "cell_type": "code",
      "source": [
        "X = X[:500]\n",
        "Y = Y[:500]"
      ],
      "metadata": {
        "id": "a2T7i7RShnk5"
      },
      "execution_count": null,
      "outputs": []
    },
    {
      "cell_type": "code",
      "source": [
        "X"
      ],
      "metadata": {
        "colab": {
          "base_uri": "https://localhost:8080/"
        },
        "id": "BB7vY1G73MYV",
        "outputId": "6f2848fe-05de-492d-dd39-de349ad988e3"
      },
      "execution_count": 358,
      "outputs": [
        {
          "output_type": "execute_result",
          "data": {
            "text/plain": [
              "0       spider man is a superhero appearing in america...\n",
              "1       captain america is a superhero appearing in am...\n",
              "2       american wolverine  g  g  luscus   eurasian wo...\n",
              "3       iron man is a superhero appearing in american ...\n",
              "4       thor  from old norse  þórr  is a prominent god...\n",
              "                              ...                        \n",
              "6471    fringillinaecarduelinaeeuphoniinae the true fi...\n",
              "6472    a jack o  lantern  or jack o lantern  is a car...\n",
              "6473      marcus  markus  márkus or mărcuș may refer to  \n",
              "6474    thane  marathi   ˈʈʰaːɳeː   also known as than...\n",
              "6475    tinker or tinkerer is an archaic term for an i...\n",
              "Name: info, Length: 6476, dtype: object"
            ]
          },
          "metadata": {},
          "execution_count": 358
        }
      ]
    },
    {
      "cell_type": "code",
      "execution_count": null,
      "metadata": {
        "id": "EUXpOkA4NsST"
      },
      "outputs": [],
      "source": [
        "from sklearn.feature_extraction.text import TfidfVectorizer\n",
        "\n",
        "vectorization = TfidfVectorizer ()\n",
        "xv_train = vectorization.fit_transform(X)"
      ]
    },
    {
      "cell_type": "code",
      "source": [
        "# param_dist = {\n",
        "#     'n_estimators': [50, 100, 200, 500],\n",
        "#     'max_depth': [None, 5, 10, 20],\n",
        "#     'min_samples_split': [2, 5, 10],\n",
        "#     'min_samples_leaf': [1, 2, 4],\n",
        "#     'max_features': ['sqrt', 'log2', None],\n",
        "#     'random_state': [42]\n",
        "# }"
      ],
      "metadata": {
        "id": "6ItsWc18ad-F"
      },
      "execution_count": null,
      "outputs": []
    },
    {
      "cell_type": "code",
      "execution_count": null,
      "metadata": {
        "colab": {
          "base_uri": "https://localhost:8080/",
          "height": 76
        },
        "id": "uWNYTQBvNpTX",
        "outputId": "11472376-bb46-49d8-e3e8-add0592a7a2e"
      },
      "outputs": [
        {
          "output_type": "execute_result",
          "data": {
            "text/plain": [
              "RandomForestClassifier(random_state=42)"
            ],
            "text/html": [
              "<style>#sk-container-id-4 {color: black;background-color: white;}#sk-container-id-4 pre{padding: 0;}#sk-container-id-4 div.sk-toggleable {background-color: white;}#sk-container-id-4 label.sk-toggleable__label {cursor: pointer;display: block;width: 100%;margin-bottom: 0;padding: 0.3em;box-sizing: border-box;text-align: center;}#sk-container-id-4 label.sk-toggleable__label-arrow:before {content: \"▸\";float: left;margin-right: 0.25em;color: #696969;}#sk-container-id-4 label.sk-toggleable__label-arrow:hover:before {color: black;}#sk-container-id-4 div.sk-estimator:hover label.sk-toggleable__label-arrow:before {color: black;}#sk-container-id-4 div.sk-toggleable__content {max-height: 0;max-width: 0;overflow: hidden;text-align: left;background-color: #f0f8ff;}#sk-container-id-4 div.sk-toggleable__content pre {margin: 0.2em;color: black;border-radius: 0.25em;background-color: #f0f8ff;}#sk-container-id-4 input.sk-toggleable__control:checked~div.sk-toggleable__content {max-height: 200px;max-width: 100%;overflow: auto;}#sk-container-id-4 input.sk-toggleable__control:checked~label.sk-toggleable__label-arrow:before {content: \"▾\";}#sk-container-id-4 div.sk-estimator input.sk-toggleable__control:checked~label.sk-toggleable__label {background-color: #d4ebff;}#sk-container-id-4 div.sk-label input.sk-toggleable__control:checked~label.sk-toggleable__label {background-color: #d4ebff;}#sk-container-id-4 input.sk-hidden--visually {border: 0;clip: rect(1px 1px 1px 1px);clip: rect(1px, 1px, 1px, 1px);height: 1px;margin: -1px;overflow: hidden;padding: 0;position: absolute;width: 1px;}#sk-container-id-4 div.sk-estimator {font-family: monospace;background-color: #f0f8ff;border: 1px dotted black;border-radius: 0.25em;box-sizing: border-box;margin-bottom: 0.5em;}#sk-container-id-4 div.sk-estimator:hover {background-color: #d4ebff;}#sk-container-id-4 div.sk-parallel-item::after {content: \"\";width: 100%;border-bottom: 1px solid gray;flex-grow: 1;}#sk-container-id-4 div.sk-label:hover label.sk-toggleable__label {background-color: #d4ebff;}#sk-container-id-4 div.sk-serial::before {content: \"\";position: absolute;border-left: 1px solid gray;box-sizing: border-box;top: 0;bottom: 0;left: 50%;z-index: 0;}#sk-container-id-4 div.sk-serial {display: flex;flex-direction: column;align-items: center;background-color: white;padding-right: 0.2em;padding-left: 0.2em;position: relative;}#sk-container-id-4 div.sk-item {position: relative;z-index: 1;}#sk-container-id-4 div.sk-parallel {display: flex;align-items: stretch;justify-content: center;background-color: white;position: relative;}#sk-container-id-4 div.sk-item::before, #sk-container-id-4 div.sk-parallel-item::before {content: \"\";position: absolute;border-left: 1px solid gray;box-sizing: border-box;top: 0;bottom: 0;left: 50%;z-index: -1;}#sk-container-id-4 div.sk-parallel-item {display: flex;flex-direction: column;z-index: 1;position: relative;background-color: white;}#sk-container-id-4 div.sk-parallel-item:first-child::after {align-self: flex-end;width: 50%;}#sk-container-id-4 div.sk-parallel-item:last-child::after {align-self: flex-start;width: 50%;}#sk-container-id-4 div.sk-parallel-item:only-child::after {width: 0;}#sk-container-id-4 div.sk-dashed-wrapped {border: 1px dashed gray;margin: 0 0.4em 0.5em 0.4em;box-sizing: border-box;padding-bottom: 0.4em;background-color: white;}#sk-container-id-4 div.sk-label label {font-family: monospace;font-weight: bold;display: inline-block;line-height: 1.2em;}#sk-container-id-4 div.sk-label-container {text-align: center;}#sk-container-id-4 div.sk-container {/* jupyter's `normalize.less` sets `[hidden] { display: none; }` but bootstrap.min.css set `[hidden] { display: none !important; }` so we also need the `!important` here to be able to override the default hidden behavior on the sphinx rendered scikit-learn.org. See: https://github.com/scikit-learn/scikit-learn/issues/21755 */display: inline-block !important;position: relative;}#sk-container-id-4 div.sk-text-repr-fallback {display: none;}</style><div id=\"sk-container-id-4\" class=\"sk-top-container\"><div class=\"sk-text-repr-fallback\"><pre>RandomForestClassifier(random_state=42)</pre><b>In a Jupyter environment, please rerun this cell to show the HTML representation or trust the notebook. <br />On GitHub, the HTML representation is unable to render, please try loading this page with nbviewer.org.</b></div><div class=\"sk-container\" hidden><div class=\"sk-item\"><div class=\"sk-estimator sk-toggleable\"><input class=\"sk-toggleable__control sk-hidden--visually\" id=\"sk-estimator-id-4\" type=\"checkbox\" checked><label for=\"sk-estimator-id-4\" class=\"sk-toggleable__label sk-toggleable__label-arrow\">RandomForestClassifier</label><div class=\"sk-toggleable__content\"><pre>RandomForestClassifier(random_state=42)</pre></div></div></div></div></div>"
            ]
          },
          "metadata": {},
          "execution_count": 280
        }
      ],
      "source": [
        "from sklearn.ensemble import RandomForestClassifier\n",
        "from sklearn.model_selection import RandomizedSearchCV\n",
        "\n",
        "rf = RandomForestClassifier(random_state=42)\n",
        "\n",
        "rf.fit(xv_train,Y)\n",
        "# # Run the randomized search over the hyperparameters\n",
        "# search = RandomizedSearchCV(rf, param_distributions=param_dist, n_iter=10, cv=5, random_state=42)\n",
        "# search.fit(xv_train, Y)\n",
        "\n",
        "# print(\"Best hyperparameters: \", search.best_params_)"
      ]
    },
    {
      "cell_type": "code",
      "source": [
        "import re\n",
        "import string"
      ],
      "metadata": {
        "id": "w8_BBpRDYFBl"
      },
      "execution_count": null,
      "outputs": []
    },
    {
      "cell_type": "code",
      "source": [
        "def wordopt(text):\n",
        "  text = text.lower ()\n",
        "  text = re.sub('\\[. *?\\]','',text)\n",
        "  text = re.sub(\"\\\\W\",\" \",text)\n",
        "  text = re.sub('https?://\\S+|www\\.\\S+', '', text)\n",
        "  text = re.sub('<.*?›+', '', text)\n",
        "  text = re.sub('[%s]' % re.escape(string.punctuation),'', text)\n",
        "  text = re.sub( \"\\n\",' ',text)\n",
        "  text = re.sub('\\w*\\d\\w*','',text)\n",
        "  return text"
      ],
      "metadata": {
        "id": "0LCu6GnnYAXL"
      },
      "execution_count": null,
      "outputs": []
    },
    {
      "cell_type": "code",
      "source": [
        "def manual_testing (news):\n",
        "  testing_news = {\"text\": [news]}\n",
        "  new_def_test = pd.DataFrame(testing_news)\n",
        "  new_def_test[\"text\"] = new_def_test[\"text\"].apply(wordopt)\n",
        "  new_x_test = new_def_test[ \"text\"]\n",
        "  new_xv_test = vectorization.transform(new_x_test)\n",
        "  pred_RF = rf.predict(new_xv_test)\n",
        "  return pred_RF"
      ],
      "metadata": {
        "id": "3ZOCCUdWX2hK"
      },
      "execution_count": null,
      "outputs": []
    },
    {
      "cell_type": "code",
      "source": [
        "news = str(input())"
      ],
      "metadata": {
        "colab": {
          "base_uri": "https://localhost:8080/"
        },
        "id": "isRXTD8KXa4O",
        "outputId": "dc9eb4d6-2127-4be4-84ae-382c5903fb74"
      },
      "execution_count": null,
      "outputs": [
        {
          "name": "stdout",
          "output_type": "stream",
          "text": [
            "spider man is a superhero appearing in american comic books published by marvel comics  created by writer editor stan lee and artist steve ditko  he first appeared in the anthology comic book amazing fantasy    august   in the silver age of comic books  he has been featured in comic books  television shows  films  video games  novels  and plays   spider man s secret identity is peter parker  a teenage high school student and an orphan raised by his aunt may and uncle ben in new york city after his parents richard and mary parker died in a plane crash  lee and ditko had the character deal with the struggles of adolescence and financial issues and gave him many supporting characters  such as flash thompson  j  jonah jameson  and harry osborn  romantic interests gwen stacy  mary jane watson  and the black cat  and his enemies such as the green goblin  doctor octopus  and venom  in his origin story\n"
          ]
        }
      ]
    },
    {
      "cell_type": "code",
      "source": [
        "output = manual_testing(news)"
      ],
      "metadata": {
        "id": "68qtaNA2X9Bn"
      },
      "execution_count": null,
      "outputs": []
    },
    {
      "cell_type": "markdown",
      "source": [
        "#Generating Output Dataframe for URL"
      ],
      "metadata": {
        "id": "7MPVikSpu6U8"
      }
    },
    {
      "cell_type": "code",
      "source": [
        "output_df = pd.DataFrame(output,columns=Y.columns)"
      ],
      "metadata": {
        "id": "8D9JslvZYYRX"
      },
      "execution_count": 333,
      "outputs": []
    },
    {
      "cell_type": "code",
      "source": [
        "for i in Y.columns:\n",
        "  print(i)"
      ],
      "metadata": {
        "colab": {
          "base_uri": "https://localhost:8080/"
        },
        "id": "v5b5pqcxnxv8",
        "outputId": "67336f07-0081-42b1-872b-8d088c30f2ac"
      },
      "execution_count": 334,
      "outputs": [
        {
          "output_type": "stream",
          "name": "stdout",
          "text": [
            "ALIGN_Bad Characters\n",
            "ALIGN_Good Characters\n",
            "ALIGN_Neutral Characters\n",
            "EYE_Amber Eyes\n",
            "EYE_Black Eyeballs\n",
            "EYE_Black Eyes\n",
            "EYE_Blue Eyes\n",
            "EYE_Brown Eyes\n",
            "EYE_Gold Eyes\n",
            "EYE_Green Eyes\n",
            "EYE_Grey Eyes\n",
            "EYE_Hazel Eyes\n",
            "EYE_Magenta Eyes\n",
            "EYE_Multiple Eyes\n",
            "EYE_No Eyes\n",
            "EYE_One Eye\n",
            "EYE_Orange Eyes\n",
            "EYE_Pink Eyes\n",
            "EYE_Purple Eyes\n",
            "EYE_Red Eyes\n",
            "EYE_Silver Eyes\n",
            "EYE_Variable Eyes\n",
            "EYE_Violet Eyes\n",
            "EYE_White Eyes\n",
            "EYE_Yellow Eyeballs\n",
            "EYE_Yellow Eyes\n",
            "HAIR_Auburn Hair\n",
            "HAIR_Bald\n",
            "HAIR_Black Hair\n",
            "HAIR_Blond Hair\n",
            "HAIR_Blue Hair\n",
            "HAIR_Bronze Hair\n",
            "HAIR_Brown Hair\n",
            "HAIR_Dyed Hair\n",
            "HAIR_Gold Hair\n",
            "HAIR_Green Hair\n",
            "HAIR_Grey Hair\n",
            "HAIR_Light Brown Hair\n",
            "HAIR_Magenta Hair\n",
            "HAIR_No Hair\n",
            "HAIR_Orange Hair\n",
            "HAIR_Orange-brown Hair\n",
            "HAIR_Pink Hair\n",
            "HAIR_Purple Hair\n",
            "HAIR_Red Hair\n",
            "HAIR_Reddish Blond Hair\n",
            "HAIR_Silver Hair\n",
            "HAIR_Strawberry Blond Hair\n",
            "HAIR_Variable Hair\n",
            "HAIR_White Hair\n",
            "HAIR_Yellow Hair\n"
          ]
        }
      ]
    },
    {
      "cell_type": "code",
      "source": [
        "store_out_final = []\n",
        "for i in output_df.columns:\n",
        "  if(output_df[i][0]):\n",
        "    store_out_final.append(i)"
      ],
      "metadata": {
        "id": "KuyCPk2IZqxz"
      },
      "execution_count": 335,
      "outputs": []
    },
    {
      "cell_type": "code",
      "source": [
        "store_out_final.append('EYE_No Eyes')"
      ],
      "metadata": {
        "id": "mvLhv7WTkfnF"
      },
      "execution_count": 339,
      "outputs": []
    },
    {
      "cell_type": "code",
      "source": [
        "output_df"
      ],
      "metadata": {
        "colab": {
          "base_uri": "https://localhost:8080/",
          "height": 192
        },
        "id": "pY5aCupS26BU",
        "outputId": "05facb6d-6d94-4a6b-e56e-86808306562c"
      },
      "execution_count": 357,
      "outputs": [
        {
          "output_type": "execute_result",
          "data": {
            "text/plain": [
              "   ALIGN_Bad Characters  ALIGN_Good Characters  ALIGN_Neutral Characters  \\\n",
              "0                     0                      1                         0   \n",
              "\n",
              "   EYE_Amber Eyes  EYE_Black Eyeballs  EYE_Black Eyes  EYE_Blue Eyes  \\\n",
              "0               0                   0               0              1   \n",
              "\n",
              "   EYE_Brown Eyes  EYE_Gold Eyes  EYE_Green Eyes  ...  HAIR_Orange-brown Hair  \\\n",
              "0               0              0               0  ...                       0   \n",
              "\n",
              "   HAIR_Pink Hair  HAIR_Purple Hair  HAIR_Red Hair  HAIR_Reddish Blond Hair  \\\n",
              "0               0                 0              0                        0   \n",
              "\n",
              "   HAIR_Silver Hair  HAIR_Strawberry Blond Hair  HAIR_Variable Hair  \\\n",
              "0                 0                           0                   0   \n",
              "\n",
              "   HAIR_White Hair  HAIR_Yellow Hair  \n",
              "0                0                 0  \n",
              "\n",
              "[1 rows x 51 columns]"
            ],
            "text/html": [
              "\n",
              "  <div id=\"df-782061b1-3612-407d-8a38-ca191544509e\">\n",
              "    <div class=\"colab-df-container\">\n",
              "      <div>\n",
              "<style scoped>\n",
              "    .dataframe tbody tr th:only-of-type {\n",
              "        vertical-align: middle;\n",
              "    }\n",
              "\n",
              "    .dataframe tbody tr th {\n",
              "        vertical-align: top;\n",
              "    }\n",
              "\n",
              "    .dataframe thead th {\n",
              "        text-align: right;\n",
              "    }\n",
              "</style>\n",
              "<table border=\"1\" class=\"dataframe\">\n",
              "  <thead>\n",
              "    <tr style=\"text-align: right;\">\n",
              "      <th></th>\n",
              "      <th>ALIGN_Bad Characters</th>\n",
              "      <th>ALIGN_Good Characters</th>\n",
              "      <th>ALIGN_Neutral Characters</th>\n",
              "      <th>EYE_Amber Eyes</th>\n",
              "      <th>EYE_Black Eyeballs</th>\n",
              "      <th>EYE_Black Eyes</th>\n",
              "      <th>EYE_Blue Eyes</th>\n",
              "      <th>EYE_Brown Eyes</th>\n",
              "      <th>EYE_Gold Eyes</th>\n",
              "      <th>EYE_Green Eyes</th>\n",
              "      <th>...</th>\n",
              "      <th>HAIR_Orange-brown Hair</th>\n",
              "      <th>HAIR_Pink Hair</th>\n",
              "      <th>HAIR_Purple Hair</th>\n",
              "      <th>HAIR_Red Hair</th>\n",
              "      <th>HAIR_Reddish Blond Hair</th>\n",
              "      <th>HAIR_Silver Hair</th>\n",
              "      <th>HAIR_Strawberry Blond Hair</th>\n",
              "      <th>HAIR_Variable Hair</th>\n",
              "      <th>HAIR_White Hair</th>\n",
              "      <th>HAIR_Yellow Hair</th>\n",
              "    </tr>\n",
              "  </thead>\n",
              "  <tbody>\n",
              "    <tr>\n",
              "      <th>0</th>\n",
              "      <td>0</td>\n",
              "      <td>1</td>\n",
              "      <td>0</td>\n",
              "      <td>0</td>\n",
              "      <td>0</td>\n",
              "      <td>0</td>\n",
              "      <td>1</td>\n",
              "      <td>0</td>\n",
              "      <td>0</td>\n",
              "      <td>0</td>\n",
              "      <td>...</td>\n",
              "      <td>0</td>\n",
              "      <td>0</td>\n",
              "      <td>0</td>\n",
              "      <td>0</td>\n",
              "      <td>0</td>\n",
              "      <td>0</td>\n",
              "      <td>0</td>\n",
              "      <td>0</td>\n",
              "      <td>0</td>\n",
              "      <td>0</td>\n",
              "    </tr>\n",
              "  </tbody>\n",
              "</table>\n",
              "<p>1 rows × 51 columns</p>\n",
              "</div>\n",
              "      <button class=\"colab-df-convert\" onclick=\"convertToInteractive('df-782061b1-3612-407d-8a38-ca191544509e')\"\n",
              "              title=\"Convert this dataframe to an interactive table.\"\n",
              "              style=\"display:none;\">\n",
              "        \n",
              "  <svg xmlns=\"http://www.w3.org/2000/svg\" height=\"24px\"viewBox=\"0 0 24 24\"\n",
              "       width=\"24px\">\n",
              "    <path d=\"M0 0h24v24H0V0z\" fill=\"none\"/>\n",
              "    <path d=\"M18.56 5.44l.94 2.06.94-2.06 2.06-.94-2.06-.94-.94-2.06-.94 2.06-2.06.94zm-11 1L8.5 8.5l.94-2.06 2.06-.94-2.06-.94L8.5 2.5l-.94 2.06-2.06.94zm10 10l.94 2.06.94-2.06 2.06-.94-2.06-.94-.94-2.06-.94 2.06-2.06.94z\"/><path d=\"M17.41 7.96l-1.37-1.37c-.4-.4-.92-.59-1.43-.59-.52 0-1.04.2-1.43.59L10.3 9.45l-7.72 7.72c-.78.78-.78 2.05 0 2.83L4 21.41c.39.39.9.59 1.41.59.51 0 1.02-.2 1.41-.59l7.78-7.78 2.81-2.81c.8-.78.8-2.07 0-2.86zM5.41 20L4 18.59l7.72-7.72 1.47 1.35L5.41 20z\"/>\n",
              "  </svg>\n",
              "      </button>\n",
              "      \n",
              "  <style>\n",
              "    .colab-df-container {\n",
              "      display:flex;\n",
              "      flex-wrap:wrap;\n",
              "      gap: 12px;\n",
              "    }\n",
              "\n",
              "    .colab-df-convert {\n",
              "      background-color: #E8F0FE;\n",
              "      border: none;\n",
              "      border-radius: 50%;\n",
              "      cursor: pointer;\n",
              "      display: none;\n",
              "      fill: #1967D2;\n",
              "      height: 32px;\n",
              "      padding: 0 0 0 0;\n",
              "      width: 32px;\n",
              "    }\n",
              "\n",
              "    .colab-df-convert:hover {\n",
              "      background-color: #E2EBFA;\n",
              "      box-shadow: 0px 1px 2px rgba(60, 64, 67, 0.3), 0px 1px 3px 1px rgba(60, 64, 67, 0.15);\n",
              "      fill: #174EA6;\n",
              "    }\n",
              "\n",
              "    [theme=dark] .colab-df-convert {\n",
              "      background-color: #3B4455;\n",
              "      fill: #D2E3FC;\n",
              "    }\n",
              "\n",
              "    [theme=dark] .colab-df-convert:hover {\n",
              "      background-color: #434B5C;\n",
              "      box-shadow: 0px 1px 3px 1px rgba(0, 0, 0, 0.15);\n",
              "      filter: drop-shadow(0px 1px 2px rgba(0, 0, 0, 0.3));\n",
              "      fill: #FFFFFF;\n",
              "    }\n",
              "  </style>\n",
              "\n",
              "      <script>\n",
              "        const buttonEl =\n",
              "          document.querySelector('#df-782061b1-3612-407d-8a38-ca191544509e button.colab-df-convert');\n",
              "        buttonEl.style.display =\n",
              "          google.colab.kernel.accessAllowed ? 'block' : 'none';\n",
              "\n",
              "        async function convertToInteractive(key) {\n",
              "          const element = document.querySelector('#df-782061b1-3612-407d-8a38-ca191544509e');\n",
              "          const dataTable =\n",
              "            await google.colab.kernel.invokeFunction('convertToInteractive',\n",
              "                                                     [key], {});\n",
              "          if (!dataTable) return;\n",
              "\n",
              "          const docLinkHtml = 'Like what you see? Visit the ' +\n",
              "            '<a target=\"_blank\" href=https://colab.research.google.com/notebooks/data_table.ipynb>data table notebook</a>'\n",
              "            + ' to learn more about interactive tables.';\n",
              "          element.innerHTML = '';\n",
              "          dataTable['output_type'] = 'display_data';\n",
              "          await google.colab.output.renderOutput(dataTable, element);\n",
              "          const docLink = document.createElement('div');\n",
              "          docLink.innerHTML = docLinkHtml;\n",
              "          element.appendChild(docLink);\n",
              "        }\n",
              "      </script>\n",
              "    </div>\n",
              "  </div>\n",
              "  "
            ]
          },
          "metadata": {},
          "execution_count": 357
        }
      ]
    },
    {
      "cell_type": "code",
      "source": [
        "store_out_final"
      ],
      "metadata": {
        "colab": {
          "base_uri": "https://localhost:8080/"
        },
        "id": "KM-tH280nfl_",
        "outputId": "ec0e483c-8d71-4633-9556-11ab6b1c8494"
      },
      "execution_count": 337,
      "outputs": [
        {
          "output_type": "execute_result",
          "data": {
            "text/plain": [
              "['ALIGN_Good Characters', 'EYE_Blue Eyes', 'HAIR_Blond Hair']"
            ]
          },
          "metadata": {},
          "execution_count": 337
        }
      ]
    },
    {
      "cell_type": "code",
      "source": [
        "bad=\"?seed=Aneka&scale=200&eyebrows=variant08&eyes=variant17\"\n",
        "good=\"?seed=Felix&scale=100&eyes=variant19\"\n",
        "hair = {\n",
        "\"HAIR_Bald\" :'hair=short19',\n",
        "\"HAIR_Black Hair\" :'hairColor=0e0e0e',\n",
        "\"HAIR_Blond Hair\" :'hairColor=e5d7a3',\n",
        "\"HAIR_Blue Hair\" :'hairColor=85c2c6',\n",
        "\"HAIR_Bronze Hair\" : 'hairColor=6a4e35',\n",
        "\"HAIR_Brown Hair\" :'hairColor=6a4e35',\n",
        "\"HAIR_Dyed Hair\" :'hairColor=6a4e35',\n",
        "\"HAIR_Gold Hair\" :'hairColor=e5d7a3',\n",
        "\"HAIR_Green Hair\" :'hairColor=3eac2c',\n",
        "\"HAIR_Grey Hair\" :'hairColor=afafaf',\n",
        "\"HAIR_Light Brown Hair\" :'hairColor=6a4e35',\n",
        "\"HAIR_Magenta Hair\" :'hairColor=592454',\n",
        "\"HAIR_No Hair\" :'hair=short19',\n",
        "\"HAIR_Orange Hair\" :'hairColor=cb6820',\n",
        "\"HAIR_Orange-brown Hair\" :'hairColor=cb6820',\n",
        "\"HAIR_Pink Hair\" :'hairColor=dba3be',\n",
        "\"HAIR_Purple Hair\" :'hairColor=592454',\n",
        "\"HAIR_Red Hair\" :'hairColor=ab2a18',\n",
        "\"HAIR_Reddish Blond Hair\" :'hairColor=ab2a18',\n",
        "\"HAIR_Silver Hair\" :'hairColor=afafaf',\n",
        "\"HAIR_Strawberry Blond Hair\" :'hairColor=dba3be',\n",
        "\"HAIR_Variable Hair\" :'hairColor=afafaf',\n",
        "\"HAIR_White Hair\" :'hairColor=afafaf',\n",
        "\"HAIR_Yellow Hair\" :'hairColor=e5d7a3'\n",
        "}\n",
        "\n",
        "eye = {\n",
        "\"EYE_Amber Eyes\":'glasses=variant01',\n",
        "\"EYE_Black Eyeballs\": 'glasses=variant01',\n",
        "\"EYE_Black Eyes\": 'glassesProbability=0',\n",
        "\"EYE_Blue Eyes\":'eyebrows=variant14',\n",
        "\"EYE_Brown Eyes\": 'glassesProbability=0',\n",
        "\"EYE_Gold Eyes\": 'eyebrows=variant14',\n",
        "\"EYE_Green Eyes\": 'eyebrows=variant14',\n",
        "\"EYE_Grey Eyes\": 'glasses=variant03',\n",
        "\"EYE_Hazel Eyes\": 'eyebrows=variant14',\n",
        "\"EYE_Magenta Eyes\":'eyebrows=variant01',\n",
        "\"EYE_Multiple Eyes\":'eyebrows=variant01',\n",
        "\"EYE_No Eyes\": 'glasses=variant01',\n",
        "\"EYE_One Eye\": 'glasses=variant01',\n",
        "\"EYE_Orange Eyes\": 'eyebrows=variant14',\n",
        "\"EYE_Pink Eyes\": 'eyebrows=variant14',\n",
        "\"EYE_Purple Eyes\": 'eyebrows=variant14',\n",
        "\"EYE_Red Eyes\":'eyebrows=variant01',\n",
        "\"EYE_Silver Eyes\": 'glasses=variant03',\n",
        "\"EYE_Variable Eyes\":'eyebrows=variant14',\n",
        "\"EYE_Violet Eyes\":'eyebrows=variant14',\n",
        "\"EYE_White Eyes\": 'glasses=variant03',\n",
        "\"EYE_Yellow Eyeballs\": 'glasses=variant03',\n",
        "\"EYE_Yellow Eyes\": 'glasses=variant03'\n",
        "}"
      ],
      "metadata": {
        "id": "_7uAuAI5t_RJ"
      },
      "execution_count": 338,
      "outputs": []
    },
    {
      "cell_type": "markdown",
      "source": [
        "#Getting the URL"
      ],
      "metadata": {
        "id": "RO3KFlKIvAr-"
      }
    },
    {
      "cell_type": "code",
      "source": [
        "url = 'https://api.dicebear.com/6.x/adventurer/svg'\n",
        "for i in store_out_final:\n",
        "  if 'ALIGN' in i:\n",
        "    if('Good' in i):\n",
        "      url = url+good\n",
        "    if 'Bad' in i or 'Neutal' in i:\n",
        "      url = url+bad\n",
        "  if 'HAIR' in i:\n",
        "    url = url +\"&\"+ hair[i]\n",
        "  if 'EYE' in i:\n",
        "    url = url +\"&\" + eye[i]\n",
        "print(url)"
      ],
      "metadata": {
        "colab": {
          "base_uri": "https://localhost:8080/"
        },
        "id": "cIJFelZueQft",
        "outputId": "1d18cd0f-6080-4956-d72a-f8bae7a37263"
      },
      "execution_count": 340,
      "outputs": [
        {
          "output_type": "stream",
          "name": "stdout",
          "text": [
            "https://api.dicebear.com/6.x/adventurer/svg?seed=Felix&scale=100&eyes=variant19&eyebrows=variant14&hairColor=e5d7a3&glasses=variant01\n"
          ]
        }
      ]
    },
    {
      "cell_type": "markdown",
      "metadata": {
        "id": "V777ZRDrNmxd"
      },
      "source": [
        "#waste"
      ]
    },
    {
      "cell_type": "code",
      "execution_count": null,
      "metadata": {
        "id": "8wCNaGFt7FSw"
      },
      "outputs": [],
      "source": [
        "# import numpy as np\n",
        "# from keras.models import Sequential\n",
        "# from keras.layers import Dense, Dropout, Embedding, Conv1D, GlobalMaxPooling1D\n",
        "\n",
        "# # Load the dataset\n",
        "# # # Assuming the dataset is in a pandas dataframe called 'data'\n",
        "# # X = np.array(data['text'])\n",
        "# # y = np.array(data[['attr1', 'attr2', ... , 'attr51']])\n",
        "\n",
        "# # Define the CNN model\n",
        "# vocab_size = 10000\n",
        "# max_len = 182135  # increased input length\n",
        "# embedding_dim = 100\n",
        "# num_epochs = 10\n",
        "# batch_size = 32\n",
        "\n",
        "# model = Sequential()\n",
        "# model.add(Embedding(input_dim=vocab_size, output_dim=embedding_dim, input_length=max_len))\n",
        "# model.add(Conv1D(filters=64, kernel_size=3, padding='same', activation='relu'))\n",
        "# model.add(GlobalMaxPooling1D())\n",
        "# model.add(Dropout(rate=0.5))\n",
        "# model.add(Dense(units=128, activation='relu'))\n",
        "# model.add(Dropout(rate=0.5))\n",
        "# model.add(Dense(units=51, activation='sigmoid'))\n",
        "# model.compile(optimizer='adam', loss='binary_crossentropy', metrics=['accuracy'])\n",
        "\n",
        "# # Train the model\n",
        "# model.fit(preprocessed_data, Y, epochs=num_epochs, batch_size=batch_size, validation_split=0.2)\n"
      ]
    },
    {
      "cell_type": "code",
      "execution_count": null,
      "metadata": {
        "id": "ar1OPZra7HV1"
      },
      "outputs": [],
      "source": [
        "# import tensorflow as tf\n",
        "# import numpy as np\n",
        "\n",
        "# # Define the model architecture\n",
        "# model = tf.keras.Sequential([\n",
        "#     tf.keras.layers.Dense(10, activation='relu', input_shape=(8,)),\n",
        "#     tf.keras.layers.Dense(1),\n",
        "#     tf.keras.layers.Lambda(lambda x: tf.cast(tf.greater(x, 0.5), tf.float32))\n",
        "# ])\n",
        "\n",
        "# # Compile the model\n",
        "# model.compile(optimizer='adam', loss='binary_crossentropy', metrics=['accuracy'])\n",
        "\n",
        "# # # Generate some random data for training and validation\n",
        "# # X = np.random.rand(1000, 8)\n",
        "# # Y = np.random.randint(2, size=(1000, 1))\n",
        "\n",
        "# # Train the model\n",
        "# num_epochs = 10\n",
        "# batch_size = 32\n",
        "# model.fit(preprocessed_data, Y, epochs=num_epochs, batch_size=batch_size, validation_split=0.2)\n"
      ]
    },
    {
      "cell_type": "code",
      "execution_count": null,
      "metadata": {
        "id": "76vtkQ2fCAXT"
      },
      "outputs": [],
      "source": [
        "# import tensorflow as tf\n",
        "# import numpy as np\n",
        "# from keras.utils import to_categorical\n",
        "\n",
        "# # Clear previous session and set random seed\n",
        "# # tf.keras.backend.clear_session()\n",
        "# # np.random.seed(42)\n",
        "# # tf.random.set_seed(42)\n",
        "\n",
        "# # # Convert Y to one-hot encoding\n",
        "# # Y = to_categorical(Y)\n",
        "\n",
        "# # Check the shape of input and output data\n",
        "# print('Input shape:', X.shape)\n",
        "# print('Output shape:', Y.shape)\n",
        "\n",
        "# # Define the model\n",
        "# model = tf.keras.models.Sequential([\n",
        "#     tf.keras.layers.Flatten(),\n",
        "#     tf.keras.layers.Dense(100, activation='relu'),\n",
        "#     tf.keras.layers.Dense(100, activation='relu'),\n",
        "#     tf.keras.layers.Dense(51, activation='sigmoid')\n",
        "# ])\n",
        "\n",
        "# # Compile the model\n",
        "# model.compile(loss='categorical_crossentropy', optimizer='adam', metrics=['accuracy'])\n",
        "\n",
        "# # Train the model\n",
        "# model.fit(X, Y, batch_size=22, epochs=10)\n"
      ]
    },
    {
      "cell_type": "code",
      "execution_count": null,
      "metadata": {
        "id": "OYTkkMNLDQv8"
      },
      "outputs": [],
      "source": [
        "# import pandas as pd\n",
        "# from sklearn.feature_extraction.text import CountVectorizer\n",
        "# from sklearn.ensemble import RandomForestClassifier\n",
        "\n",
        "# # Define the string input\n",
        "# # input_str = \"This is an example input string\"\n",
        "\n",
        "# # Preprocess the string input into numerical features\n",
        "# vectorizer = CountVectorizer()\n",
        "# input_features = vectorizer.fit_transform(X).toarray()\n",
        "\n",
        "# # Load the dataset and split into features and target\n",
        "# # df = pd.read_csv('data.csv')\n",
        "# # X = df.drop(['target_attribute_1', 'target_attribute_2', ..., 'target_attribute_51'], axis=1)\n",
        "# # y = df[['target_attribute_1', 'target_attribute_2', ..., 'target_attribute_51']]\n",
        "\n",
        "# # Train the random forest classifier\n",
        "# clf = RandomForestClassifier()\n",
        "# clf.fit(X, Y)\n",
        "\n",
        "# # Use the trained classifier to predict the target attributes for the input string\n",
        "# prediction = clf.predict(input_features)\n"
      ]
    },
    {
      "cell_type": "code",
      "execution_count": null,
      "metadata": {
        "id": "0EZ-6ZE5FvFy"
      },
      "outputs": [],
      "source": [
        "# import numpy as np\n",
        "# from keras.models import Sequential\n",
        "# from keras.layers import Embedding, Conv1D, MaxPooling1D, Dense, Flatten, Dropout\n",
        "# from keras.preprocessing.text import Tokenizer\n",
        "# from keras.utils import pad_sequences\n",
        "# from keras.utils import to_categorical\n",
        "\n",
        "# # Example data: string inputs and 3 attributes\n",
        "# # X_train = ['This is the first sentence.', 'This is the second sentence.']\n",
        "# # y_train = np.array([[1, 0, 0], [0, 1, 0]])\n",
        "\n",
        "# # Tokenize and pad the text\n",
        "# tokenizer = Tokenizer()\n",
        "# tmep_lst = list(X)\n",
        "# tokenizer.fit_on_texts(temp_lst)\n",
        "# vocab_size = len(tokenizer.word_index) + 1\n",
        "# max_len = max([len(s.split()) for s in X])\n",
        "# X_train_seq = tokenizer.texts_to_sequences(X)\n",
        "# X_train_pad = pad_sequences(X_train_seq, maxlen=max_len, padding='post')\n",
        "\n",
        "# # Build the model\n",
        "# model = Sequential()\n",
        "# model.add(Embedding(input_dim=vocab_size, output_dim=128, input_length=max_len))\n",
        "# model.add(Conv1D(filters=64, kernel_size=3, activation='relu'))\n",
        "# model.add(MaxPooling1D(pool_size=2))\n",
        "# model.add(Flatten())\n",
        "# model.add(Dense(units=64, activation='relu'))\n",
        "# model.add(Dropout(rate=0.5))\n",
        "# model.add(Dense(units=51, activation='softmax'))\n",
        "\n",
        "# model.compile(optimizer='adam', loss='categorical_crossentropy', metrics=['accuracy'])\n",
        "\n",
        "# # Train the model\n",
        "# model.fit(X_train_pad, y_train, epochs=10, batch_size=32)\n",
        "\n",
        "# # Example of how to use the trained model to predict new data\n",
        "# new_data = ['This is a new sentence.']\n",
        "# new_data_seq = tokenizer.texts_to_sequences(new_data)\n",
        "# new_data_pad = pad_sequences(new_data_seq, maxlen=max_len, padding='post')\n",
        "# predictions = model.predict(new_data_pad)\n",
        "# print(predictions)"
      ]
    },
    {
      "cell_type": "code",
      "execution_count": null,
      "metadata": {
        "id": "r23FwycmMKbI"
      },
      "outputs": [],
      "source": [
        "# # Set the maximum length of each sequence\n",
        "# max_len = 100\n",
        "\n",
        "# # Initialize the tokenizer\n",
        "# tokenizer = Tokenizer()\n",
        "# tokenizer.fit_on_texts(X)\n",
        "\n",
        "# # Preprocess the data\n",
        "# preprocessed_data = preprocess_text_data(X, tokenizer, max_len)\n",
        "\n",
        "# # # Predict using the DL model\n",
        "# # model.predict(preprocessed_data)\n",
        "# type((preprocessed_data[4000]))"
      ]
    },
    {
      "cell_type": "code",
      "execution_count": null,
      "metadata": {
        "id": "fb7ElRsYKn7v"
      },
      "outputs": [],
      "source": [
        "# import numpy as np\n",
        "# from keras.models import Sequential\n",
        "# from keras.layers import Embedding, Conv1D, GlobalMaxPooling1D, Dropout, Dense\n",
        "\n",
        "# # Example input ndarray with shape (1000, 10, 5)\n",
        "# X = preprocessed_data\n",
        "\n",
        "# # Define model\n",
        "# model = Sequential()\n",
        "# model.add(Embedding(input_dim=vocab_size, output_dim=embedding_dim, input_length=max_len))\n",
        "# model.add(Conv1D(filters=64, kernel_size=3, padding='same', activation='relu'))\n",
        "# model.add(GlobalMaxPooling1D())\n",
        "# model.add(Dropout(rate=0.5))\n",
        "# model.add(Dense(units=128, activation='relu'))\n",
        "# model.add(Dropout(rate=0.5))\n",
        "# model.add(Dense(units=51, activation='sigmoid'))\n",
        "# model.compile(optimizer='adam', loss='binary_crossentropy', metrics=['accuracy'])\n",
        "\n",
        "# # Reshape input ndarray to have shape (1000, 10, 5)\n",
        "# X_reshaped = X.reshape((X.shape[0], X.shape[1], X.shape[2]))\n",
        "\n",
        "# # Apply model to input ndarray\n",
        "# predictions = model.predict(X_reshaped)\n"
      ]
    },
    {
      "cell_type": "code",
      "execution_count": null,
      "metadata": {
        "id": "gZFFyf11Iql6"
      },
      "outputs": [],
      "source": [
        "# import numpy as np\n",
        "# from keras.preprocessing.text import Tokenizer\n",
        "# from keras.utils import pad_sequences\n",
        "\n",
        "# def preprocess_text_data(data, tokenizer, max_len):\n",
        "#     # Tokenize the input data\n",
        "#     sequences = tokenizer.texts_to_sequences(data)\n",
        "#     # Pad sequences to ensure equal length\n",
        "#     padded_sequences = pad_sequences(sequences, maxlen=max_len, padding='post', truncating='post')\n",
        "#     return np.array(padded_sequences)\n"
      ]
    }
  ],
  "metadata": {
    "colab": {
      "collapsed_sections": [
        "V777ZRDrNmxd"
      ],
      "provenance": []
    },
    "kernelspec": {
      "display_name": "Python 3",
      "name": "python3"
    },
    "language_info": {
      "name": "python"
    },
    "gpuClass": "standard"
  },
  "nbformat": 4,
  "nbformat_minor": 0
}